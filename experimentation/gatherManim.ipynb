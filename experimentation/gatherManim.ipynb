{
 "cells": [
  {
   "cell_type": "code",
   "execution_count": 4,
   "metadata": {},
   "outputs": [],
   "source": [
    "from langchain_unstructured import UnstructuredLoader\n",
    "from langchain_google_genai import GoogleGenerativeAIEmbeddings\n",
    "from langchain_chroma import Chroma\n",
    "from langchain_text_splitters import RecursiveCharacterTextSplitter\n",
    "from langchain_community.document_loaders import WebBaseLoader\n",
    "import bs4\n",
    "from bs4 import BeautifulSoup\n",
    "import requests\n",
    "import urllib.request\n",
    "from tqdm import tqdm\n",
    "from langchain_google_genai import (\n",
    "    HarmBlockThreshold,\n",
    "    HarmCategory,\n",
    ")\n",
    "import os\n",
    "from langchain_community.document_loaders import AsyncChromiumLoader\n",
    "from langchain_community.document_transformers import BeautifulSoupTransformer"
   ]
  },
  {
   "cell_type": "code",
   "execution_count": 91,
   "metadata": {},
   "outputs": [
    {
     "name": "stdout",
     "output_type": "stream",
     "text": [
      "['https://docs.manim.community/en/stable/reference_index/animations.html', 'https://docs.manim.community/en/stable/reference/manim.animation.animation.html', 'https://docs.manim.community/en/stable/reference/manim.animation.animation.Animation.html', 'https://docs.manim.community/en/stable/reference/manim.animation.animation.Wait.html', 'https://docs.manim.community/en/stable/reference/manim.animation.changing.html', 'https://docs.manim.community/en/stable/reference/manim.animation.changing.AnimatedBoundary.html', 'https://docs.manim.community/en/stable/reference/manim.animation.changing.TracedPath.html', 'https://docs.manim.community/en/stable/reference/manim.animation.composition.html', 'https://docs.manim.community/en/stable/reference/manim.animation.composition.AnimationGroup.html', 'https://docs.manim.community/en/stable/reference/manim.animation.composition.LaggedStart.html', 'https://docs.manim.community/en/stable/reference/manim.animation.composition.LaggedStartMap.html', 'https://docs.manim.community/en/stable/reference/manim.animation.composition.Succession.html', 'https://docs.manim.community/en/stable/reference/manim.animation.creation.html', 'https://docs.manim.community/en/stable/reference/manim.animation.creation.AddTextLetterByLetter.html', 'https://docs.manim.community/en/stable/reference/manim.animation.creation.AddTextWordByWord.html', 'https://docs.manim.community/en/stable/reference/manim.animation.creation.Create.html', 'https://docs.manim.community/en/stable/reference/manim.animation.creation.DrawBorderThenFill.html', 'https://docs.manim.community/en/stable/reference/manim.animation.creation.RemoveTextLetterByLetter.html', 'https://docs.manim.community/en/stable/reference/manim.animation.creation.ShowIncreasingSubsets.html', 'https://docs.manim.community/en/stable/reference/manim.animation.creation.ShowPartial.html', 'https://docs.manim.community/en/stable/reference/manim.animation.creation.ShowSubmobjectsOneByOne.html', 'https://docs.manim.community/en/stable/reference/manim.animation.creation.SpiralIn.html', 'https://docs.manim.community/en/stable/reference/manim.animation.creation.Uncreate.html', 'https://docs.manim.community/en/stable/reference/manim.animation.creation.Unwrite.html', 'https://docs.manim.community/en/stable/reference/manim.animation.creation.Write.html', 'https://docs.manim.community/en/stable/reference/manim.animation.fading.html', 'https://docs.manim.community/en/stable/reference/manim.animation.fading.FadeIn.html', 'https://docs.manim.community/en/stable/reference/manim.animation.fading.FadeOut.html', 'https://docs.manim.community/en/stable/reference/manim.animation.growing.html', 'https://docs.manim.community/en/stable/reference/manim.animation.growing.GrowArrow.html', 'https://docs.manim.community/en/stable/reference/manim.animation.growing.GrowFromCenter.html', 'https://docs.manim.community/en/stable/reference/manim.animation.growing.GrowFromEdge.html', 'https://docs.manim.community/en/stable/reference/manim.animation.growing.GrowFromPoint.html', 'https://docs.manim.community/en/stable/reference/manim.animation.growing.SpinInFromNothing.html', 'https://docs.manim.community/en/stable/reference/manim.animation.indication.html', 'https://docs.manim.community/en/stable/reference/manim.animation.indication.ApplyWave.html', 'https://docs.manim.community/en/stable/reference/manim.animation.indication.Circumscribe.html', 'https://docs.manim.community/en/stable/reference/manim.animation.indication.Flash.html', 'https://docs.manim.community/en/stable/reference/manim.animation.indication.FocusOn.html', 'https://docs.manim.community/en/stable/reference/manim.animation.indication.Indicate.html', 'https://docs.manim.community/en/stable/reference/manim.animation.indication.ShowPassingFlash.html', 'https://docs.manim.community/en/stable/reference/manim.animation.indication.ShowPassingFlashWithThinningStrokeWidth.html', 'https://docs.manim.community/en/stable/reference/manim.animation.indication.Wiggle.html', 'https://docs.manim.community/en/stable/reference/manim.animation.movement.html', 'https://docs.manim.community/en/stable/reference/manim.animation.movement.ComplexHomotopy.html', 'https://docs.manim.community/en/stable/reference/manim.animation.movement.Homotopy.html', 'https://docs.manim.community/en/stable/reference/manim.animation.movement.MoveAlongPath.html', 'https://docs.manim.community/en/stable/reference/manim.animation.movement.PhaseFlow.html', 'https://docs.manim.community/en/stable/reference/manim.animation.movement.SmoothedVectorizedHomotopy.html', 'https://docs.manim.community/en/stable/reference/manim.animation.numbers.html', 'https://docs.manim.community/en/stable/reference/manim.animation.numbers.ChangeDecimalToValue.html', 'https://docs.manim.community/en/stable/reference/manim.animation.numbers.ChangingDecimal.html', 'https://docs.manim.community/en/stable/reference/manim.animation.rotation.html', 'https://docs.manim.community/en/stable/reference/manim.animation.rotation.Rotate.html', 'https://docs.manim.community/en/stable/reference/manim.animation.rotation.Rotating.html', 'https://docs.manim.community/en/stable/reference/manim.animation.specialized.html', 'https://docs.manim.community/en/stable/reference/manim.animation.specialized.Broadcast.html', 'https://docs.manim.community/en/stable/reference/manim.animation.speedmodifier.html', 'https://docs.manim.community/en/stable/reference/manim.animation.speedmodifier.ChangeSpeed.html', 'https://docs.manim.community/en/stable/reference/manim.animation.transform.html', 'https://docs.manim.community/en/stable/reference/manim.animation.transform.ApplyComplexFunction.html', 'https://docs.manim.community/en/stable/reference/manim.animation.transform.ApplyFunction.html', 'https://docs.manim.community/en/stable/reference/manim.animation.transform.ApplyMatrix.html', 'https://docs.manim.community/en/stable/reference/manim.animation.transform.ApplyMethod.html', 'https://docs.manim.community/en/stable/reference/manim.animation.transform.ApplyPointwiseFunction.html', 'https://docs.manim.community/en/stable/reference/manim.animation.transform.ApplyPointwiseFunctionToCenter.html', 'https://docs.manim.community/en/stable/reference/manim.animation.transform.ClockwiseTransform.html', 'https://docs.manim.community/en/stable/reference/manim.animation.transform.CounterclockwiseTransform.html', 'https://docs.manim.community/en/stable/reference/manim.animation.transform.CyclicReplace.html', 'https://docs.manim.community/en/stable/reference/manim.animation.transform.FadeToColor.html', 'https://docs.manim.community/en/stable/reference/manim.animation.transform.FadeTransform.html', 'https://docs.manim.community/en/stable/reference/manim.animation.transform.FadeTransformPieces.html', 'https://docs.manim.community/en/stable/reference/manim.animation.transform.MoveToTarget.html', 'https://docs.manim.community/en/stable/reference/manim.animation.transform.ReplacementTransform.html', 'https://docs.manim.community/en/stable/reference/manim.animation.transform.Restore.html', 'https://docs.manim.community/en/stable/reference/manim.animation.transform.ScaleInPlace.html', 'https://docs.manim.community/en/stable/reference/manim.animation.transform.ShrinkToCenter.html', 'https://docs.manim.community/en/stable/reference/manim.animation.transform.Swap.html', 'https://docs.manim.community/en/stable/reference/manim.animation.transform.Transform.html', 'https://docs.manim.community/en/stable/reference/manim.animation.transform.TransformAnimations.html', 'https://docs.manim.community/en/stable/reference/manim.animation.transform.TransformFromCopy.html', 'https://docs.manim.community/en/stable/reference/manim.animation.transform_matching_parts.html', 'https://docs.manim.community/en/stable/reference/manim.animation.transform_matching_parts.TransformMatchingAbstractBase.html', 'https://docs.manim.community/en/stable/reference/manim.animation.transform_matching_parts.TransformMatchingShapes.html', 'https://docs.manim.community/en/stable/reference/manim.animation.transform_matching_parts.TransformMatchingTex.html', 'https://docs.manim.community/en/stable/reference/manim.animation.updaters.html', 'https://docs.manim.community/en/stable/reference_index/cameras.html', 'https://docs.manim.community/en/stable/reference/manim.camera.camera.html', 'https://docs.manim.community/en/stable/reference/manim.camera.camera.BackgroundColoredVMobjectDisplayer.html', 'https://docs.manim.community/en/stable/reference/manim.camera.camera.Camera.html', 'https://docs.manim.community/en/stable/reference/manim.camera.mapping_camera.html', 'https://docs.manim.community/en/stable/reference/manim.camera.mapping_camera.MappingCamera.html', 'https://docs.manim.community/en/stable/reference/manim.camera.mapping_camera.OldMultiCamera.html', 'https://docs.manim.community/en/stable/reference/manim.camera.mapping_camera.SplitScreenCamera.html', 'https://docs.manim.community/en/stable/reference/manim.camera.moving_camera.html', 'https://docs.manim.community/en/stable/reference/manim.camera.moving_camera.MovingCamera.html', 'https://docs.manim.community/en/stable/reference/manim.camera.multi_camera.html', 'https://docs.manim.community/en/stable/reference/manim.camera.multi_camera.MultiCamera.html', 'https://docs.manim.community/en/stable/reference/manim.camera.three_d_camera.html', 'https://docs.manim.community/en/stable/reference/manim.camera.three_d_camera.ThreeDCamera.html', 'https://docs.manim.community/en/stable/reference_index/configuration.html', 'https://docs.manim.community/en/stable/reference/manim._config.html', 'https://docs.manim.community/en/stable/reference/manim._config.utils.html', 'https://docs.manim.community/en/stable/reference/manim._config.logger_utils.html', 'https://docs.manim.community/en/stable/reference_index/mobjects.html', 'https://docs.manim.community/en/stable/reference/manim.mobject.frame.html', 'https://docs.manim.community/en/stable/reference/manim.mobject.frame.FullScreenRectangle.html', 'https://docs.manim.community/en/stable/reference/manim.mobject.frame.ScreenRectangle.html', 'https://docs.manim.community/en/stable/reference/manim.mobject.geometry.html', 'https://docs.manim.community/en/stable/reference/manim.mobject.graph.html', 'https://docs.manim.community/en/stable/reference/manim.mobject.graph.DiGraph.html', 'https://docs.manim.community/en/stable/reference/manim.mobject.graph.GenericGraph.html', 'https://docs.manim.community/en/stable/reference/manim.mobject.graph.Graph.html', 'https://docs.manim.community/en/stable/reference/manim.mobject.graph.LayoutFunction.html', 'https://docs.manim.community/en/stable/reference/manim.mobject.graphing.html', 'https://docs.manim.community/en/stable/reference/manim.mobject.logo.html', 'https://docs.manim.community/en/stable/reference/manim.mobject.logo.ManimBanner.html', 'https://docs.manim.community/en/stable/reference/manim.mobject.matrix.html', 'https://docs.manim.community/en/stable/reference/manim.mobject.matrix.DecimalMatrix.html', 'https://docs.manim.community/en/stable/reference/manim.mobject.matrix.IntegerMatrix.html', 'https://docs.manim.community/en/stable/reference/manim.mobject.matrix.Matrix.html', 'https://docs.manim.community/en/stable/reference/manim.mobject.matrix.MobjectMatrix.html', 'https://docs.manim.community/en/stable/reference/manim.mobject.mobject.html', 'https://docs.manim.community/en/stable/reference/manim.mobject.mobject.Group.html', 'https://docs.manim.community/en/stable/reference/manim.mobject.mobject.Mobject.html', 'https://docs.manim.community/en/stable/reference/manim.mobject.svg.html', 'https://docs.manim.community/en/stable/reference/manim.mobject.table.html', 'https://docs.manim.community/en/stable/reference/manim.mobject.table.DecimalTable.html', 'https://docs.manim.community/en/stable/reference/manim.mobject.table.IntegerTable.html', 'https://docs.manim.community/en/stable/reference/manim.mobject.table.MathTable.html', 'https://docs.manim.community/en/stable/reference/manim.mobject.table.MobjectTable.html', 'https://docs.manim.community/en/stable/reference/manim.mobject.table.Table.html', 'https://docs.manim.community/en/stable/reference/manim.mobject.text.html', 'https://docs.manim.community/en/stable/reference/manim.mobject.three_d.html', 'https://docs.manim.community/en/stable/reference/manim.mobject.types.html', 'https://docs.manim.community/en/stable/reference/manim.mobject.utils.html', 'https://docs.manim.community/en/stable/reference/manim.mobject.value_tracker.html', 'https://docs.manim.community/en/stable/reference/manim.mobject.value_tracker.ComplexValueTracker.html', 'https://docs.manim.community/en/stable/reference/manim.mobject.value_tracker.ValueTracker.html', 'https://docs.manim.community/en/stable/reference/manim.mobject.vector_field.html', 'https://docs.manim.community/en/stable/reference/manim.mobject.vector_field.ArrowVectorField.html', 'https://docs.manim.community/en/stable/reference/manim.mobject.vector_field.StreamLines.html', 'https://docs.manim.community/en/stable/reference/manim.mobject.vector_field.VectorField.html', 'https://docs.manim.community/en/stable/reference_index/scenes.html', 'https://docs.manim.community/en/stable/reference/manim.scene.moving_camera_scene.html', 'https://docs.manim.community/en/stable/reference/manim.scene.moving_camera_scene.MovingCameraScene.html', 'https://docs.manim.community/en/stable/reference/manim.scene.section.html', 'https://docs.manim.community/en/stable/reference/manim.scene.section.DefaultSectionType.html', 'https://docs.manim.community/en/stable/reference/manim.scene.section.Section.html', 'https://docs.manim.community/en/stable/reference/manim.scene.scene.html', 'https://docs.manim.community/en/stable/reference/manim.scene.scene.RerunSceneHandler.html', 'https://docs.manim.community/en/stable/reference/manim.scene.scene.Scene.html', 'https://docs.manim.community/en/stable/reference/manim.scene.scene_file_writer.html', 'https://docs.manim.community/en/stable/reference/manim.scene.scene_file_writer.SceneFileWriter.html', 'https://docs.manim.community/en/stable/reference/manim.scene.three_d_scene.html', 'https://docs.manim.community/en/stable/reference/manim.scene.three_d_scene.SpecialThreeDScene.html', 'https://docs.manim.community/en/stable/reference/manim.scene.three_d_scene.ThreeDScene.html', 'https://docs.manim.community/en/stable/reference/manim.scene.vector_space_scene.html', 'https://docs.manim.community/en/stable/reference/manim.scene.vector_space_scene.LinearTransformationScene.html', 'https://docs.manim.community/en/stable/reference/manim.scene.vector_space_scene.VectorScene.html', 'https://docs.manim.community/en/stable/reference/manim.scene.zoomed_scene.html', 'https://docs.manim.community/en/stable/reference/manim.scene.zoomed_scene.ZoomedScene.html', 'https://docs.manim.community/en/stable/reference_index/utilities_misc.html', 'https://docs.manim.community/en/stable/reference/manim.utils.bezier.html', 'https://docs.manim.community/en/stable/reference/manim.utils.color.html', 'https://docs.manim.community/en/stable/reference/manim.utils.commands.html', 'https://docs.manim.community/en/stable/reference/manim.utils.config_ops.html', 'https://docs.manim.community/en/stable/reference/manim.constants.html', 'https://docs.manim.community/en/stable/reference/manim.utils.debug.html', 'https://docs.manim.community/en/stable/reference/manim.utils.deprecation.html', 'https://docs.manim.community/en/stable/reference/manim.utils.docbuild.html', 'https://docs.manim.community/en/stable/reference/manim.utils.hashing.html', 'https://docs.manim.community/en/stable/reference/manim.utils.images.html', 'https://docs.manim.community/en/stable/reference/manim.utils.ipython_magic.html']\n"
     ]
    }
   ],
   "source": [
    "urls = []\n",
    "\n",
    "prefix = \"https://docs.manim.community/en/stable/\"\n",
    "\n",
    "with open(\"links.txt\", \"r\") as f:\n",
    "    for line in f:\n",
    "        urls.append(prefix + line.strip())\n",
    "\n",
    "print(urls)"
   ]
  },
  {
   "cell_type": "code",
   "execution_count": null,
   "metadata": {},
   "outputs": [],
   "source": [
    "for url in tqdm(urls):\n",
    "    try:\n",
    "        r = requests.get(url)\n",
    "\n",
    "        if r.status_code != 200:\n",
    "            print(f\"Failed to fetch {url}\")\n",
    "            continue\n",
    "\n",
    "        soup = BeautifulSoup(r.text, \"html.parser\")\n",
    "        print(f\"Title: {soup.title.text}\")\n",
    "    \n",
    "\n",
    "    except Exception as e:\n",
    "        print(\"Failed.\")\n",
    "        print(f\"Details: {e}\")"
   ]
  },
  {
   "cell_type": "code",
   "execution_count": 93,
   "metadata": {},
   "outputs": [],
   "source": [
    "def get_text(url):\n",
    "    fp = urllib.request.urlopen(url)\n",
    "    mybytes = fp.read()\n",
    "\n",
    "    mystr = mybytes.decode(\"utf8\")\n",
    "    fp.close()\n",
    "\n",
    "    soup = BeautifulSoup(mystr)\n",
    "\n",
    "\n",
    "    for code in soup.find_all(class_=\"pre\"):\n",
    "        code.string.replace_with(\"\\`\\`\\`\"+code.string+\"\\`\\`\\`\")\n",
    "        if \"[source]\" in code.string:\n",
    "            code.string.replace_with(\"\")\n",
    "\n",
    "    for code in soup.find_all():\n",
    "        if code.name == \"pre\" and code.string:\n",
    "            code.decompose()\n",
    "\n",
    "    for code in soup.find_all(class_=\"highlight\"):\n",
    "        for pre in code.find_all(\"pre\"):\n",
    "\n",
    "            total = len(pre.find_all(\"span\"))\n",
    "            caught = False\n",
    "\n",
    "            for span in pre.find_all(\"span\"):\n",
    "                if not span.string:\n",
    "                    continue\n",
    "\n",
    "                if not caught:\n",
    "                    span.string.replace_with(\"\\`\\`\\`\"+span.string)\n",
    "                    caught = True\n",
    "\n",
    "                last = span\n",
    "            \n",
    "            last.string.replace_with(last.string + \"\\`\\`\\`\")\n",
    "\n",
    "\n",
    "\n",
    "    return soup.article.get_text()\n"
   ]
  },
  {
   "cell_type": "code",
   "execution_count": 96,
   "metadata": {},
   "outputs": [
    {
     "name": "stderr",
     "output_type": "stream",
     "text": [
      "100%|██████████| 174/174 [00:48<00:00,  3.56it/s]\n"
     ]
    }
   ],
   "source": [
    "i = 0\n",
    "for url in tqdm(urls):\n",
    "    try:\n",
    "        text = get_text(url)\n",
    "        with open(f\"localManim/{i}.txt\", \"w\", encoding=\"utf-8\") as file:\n",
    "            file.write(text)\n",
    "        i += 1\n",
    "    except Exception as e:\n",
    "        print(\"Failed.\")\n",
    "        print(f\"Details: {e}\")"
   ]
  }
 ],
 "metadata": {
  "kernelspec": {
   "display_name": "Python 3",
   "language": "python",
   "name": "python3"
  },
  "language_info": {
   "codemirror_mode": {
    "name": "ipython",
    "version": 3
   },
   "file_extension": ".py",
   "mimetype": "text/x-python",
   "name": "python",
   "nbconvert_exporter": "python",
   "pygments_lexer": "ipython3",
   "version": "3.9.13"
  }
 },
 "nbformat": 4,
 "nbformat_minor": 2
}
